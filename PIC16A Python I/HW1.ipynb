{
 "cells": [
  {
   "cell_type": "code",
   "execution_count": 21,
   "metadata": {},
   "outputs": [],
   "source": [
    "def compare_val_w_idx_no_obj(L):\n",
    "    \"\"\"Compares each value of a list of numbers with its index...\n",
    "    \n",
    "    No new objects (except ints) are created during the function call!! \n",
    "    None is returned, but L is mutated by the function call.\n",
    "    \n",
    "    For any list of numbers L, \n",
    "    the following code results in True being printed.\n",
    "    \n",
    "    M = compare_val_w_idx(L)\n",
    "    compare_val_w_idx_no_obj(L)\n",
    "    print(L == M)\n",
    "    \n",
    "    So L is mutated to the return value of compare_val_w_idx(L).\n",
    "    \"\"\"\n",
    "    for i in range(len(L)):\n",
    "        if L[i] > i:\n",
    "            L.pop(i)\n",
    "            L.insert(i, 1)\n",
    "        elif L[i] < i:\n",
    "            L.pop(i)\n",
    "            L.insert(i, -1)\n",
    "        else:\n",
    "            L.pop(i)\n",
    "            L.insert(i, 0)"
   ]
  },
  {
   "cell_type": "code",
   "execution_count": 22,
   "metadata": {},
   "outputs": [],
   "source": [
    "L = [1, 2, 3, 4, 5]"
   ]
  },
  {
   "cell_type": "code",
   "execution_count": 23,
   "metadata": {},
   "outputs": [
    {
     "name": "stdout",
     "output_type": "stream",
     "text": [
      "1.3 µs ± 10.5 ns per loop (mean ± std. dev. of 7 runs, 1000000 loops each)\n"
     ]
    }
   ],
   "source": [
    "%%timeit\n",
    "compare_val_w_idx_no_obj(L)"
   ]
  },
  {
   "cell_type": "code",
   "execution_count": null,
   "metadata": {},
   "outputs": [],
   "source": []
  }
 ],
 "metadata": {
  "kernelspec": {
   "display_name": "Python 3",
   "language": "python",
   "name": "python3"
  },
  "language_info": {
   "codemirror_mode": {
    "name": "ipython",
    "version": 3
   },
   "file_extension": ".py",
   "mimetype": "text/x-python",
   "name": "python",
   "nbconvert_exporter": "python",
   "pygments_lexer": "ipython3",
   "version": "3.7.6"
  }
 },
 "nbformat": 4,
 "nbformat_minor": 4
}
