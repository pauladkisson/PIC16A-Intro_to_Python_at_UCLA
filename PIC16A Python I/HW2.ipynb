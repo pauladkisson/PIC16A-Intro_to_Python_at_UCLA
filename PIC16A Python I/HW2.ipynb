{
 "cells": [
  {
   "cell_type": "code",
   "execution_count": 24,
   "metadata": {},
   "outputs": [],
   "source": [
    "#First Attempt: kinda slow and a little dirty but it works\n",
    "def longest_path_length(d):\n",
    "    \"\"\"Returns the length of the longest path in d.\"\"\"\n",
    "    if d == {}:\n",
    "        return 0\n",
    "    path_lengths = []\n",
    "    for key in d: #Recall that looping through a dictionary automatically loops through its KEYS\n",
    "        path = [(key, d[key])]\n",
    "        while path[-1][1] in d.keys():\n",
    "            path.append((path[-1][1], d[path[-1][1]]))\n",
    "            #If there are any duplicate tuples --> remove the duplicate and break the loop\n",
    "            if len(set(path)) != len(path):\n",
    "                path.pop()\n",
    "                break\n",
    "        path_lengths.append(len(path))\n",
    "    return max(path_lengths)\n",
    "\n",
    "#Test Cases\n",
    "d = {1:2, 2:3, 4:5, 5:6, 6:7, 8:9}\n",
    "assert longest_path_length(d) == 3, \"Test Case 1.1\"\n",
    "d = {1:2, 2:3, 3:1}\n",
    "assert longest_path_length(d) == 3, \"Test Case 1.2\"\n",
    "d = {1:2, 2:3, 3:4, 5:1, 6:1, 4:2}\n",
    "assert longest_path_length(d) == 5, \"Test Case 1.3\"\n",
    "d = {}\n",
    "assert longest_path_length(d) == 0, \"Test Case 1.4\""
   ]
  },
  {
   "cell_type": "code",
   "execution_count": 1,
   "metadata": {},
   "outputs": [],
   "source": [
    "#Second Attempt: Much cleaner and faster, I was just fucking up the timeit earlier\n",
    "def longest_path_length(d):\n",
    "    \"\"\"Returns the length of the longest path in d.\"\"\"\n",
    "    max_path_length = 0\n",
    "    for key in d:\n",
    "        path = [(key, d[key])]\n",
    "        while path[-1][1] in d.keys():\n",
    "            path.append((path[-1][1], d[path[-1][1]]))\n",
    "            path_length = len(path)\n",
    "            #If there are any duplicate tuples --> break the loop --> true length is recorded length - 1    \n",
    "            if len(set(path)) != path_length:\n",
    "                path_length -= 1\n",
    "                break\n",
    "        if path_length > max_path_length:\n",
    "            max_path_length = path_length\n",
    "            \n",
    "    return max_path_length\n",
    "\n",
    "#Test Cases\n",
    "d = {1:2, 2:3, 4:5, 5:6, 6:7, 8:9}\n",
    "assert longest_path_length(d) == 3, \"Test Case 1.1\"\n",
    "d = {1:2, 2:3, 3:1}\n",
    "assert longest_path_length(d) == 3, \"Test Case 1.2\"\n",
    "d = {1:2, 2:3, 3:4, 5:1, 6:1, 4:2}\n",
    "assert longest_path_length(d) == 5, \"Test Case 1.3\"\n",
    "d = {}\n",
    "assert longest_path_length(d) == 0, \"Test Case 1.4\""
   ]
  },
  {
   "cell_type": "code",
   "execution_count": 5,
   "metadata": {},
   "outputs": [],
   "source": [
    "from random import randint"
   ]
  },
  {
   "cell_type": "code",
   "execution_count": 34,
   "metadata": {
    "scrolled": true
   },
   "outputs": [
    {
     "name": "stdout",
     "output_type": "stream",
     "text": [
      "3.45 ms ± 167 µs per loop (mean ± std. dev. of 7 runs, 100 loops each)\n"
     ]
    }
   ],
   "source": [
    "%%timeit\n",
    "d = {i:randint(1,10) for i in range(1000)}\n",
    "longest_path_length(d)"
   ]
  },
  {
   "cell_type": "code",
   "execution_count": 17,
   "metadata": {},
   "outputs": [
    {
     "name": "stdout",
     "output_type": "stream",
     "text": [
      "10.3 ns ± 0.255 ns per loop (mean ± std. dev. of 7 runs, 100000000 loops each)\n"
     ]
    }
   ],
   "source": [
    "myInt = 0"
   ]
  },
  {
   "cell_type": "code",
   "execution_count": 20,
   "metadata": {},
   "outputs": [
    {
     "name": "stdout",
     "output_type": "stream",
     "text": [
      "10.7 ns ± 0.517 ns per loop (mean ± std. dev. of 7 runs, 100000000 loops each)\n"
     ]
    }
   ],
   "source": [
    "%%timeit\n",
    "myInt = 0"
   ]
  },
  {
   "cell_type": "code",
   "execution_count": 18,
   "metadata": {},
   "outputs": [],
   "source": [
    "myList = []"
   ]
  },
  {
   "cell_type": "code",
   "execution_count": 19,
   "metadata": {},
   "outputs": [
    {
     "name": "stdout",
     "output_type": "stream",
     "text": [
      "51.2 ns ± 1.22 ns per loop (mean ± std. dev. of 7 runs, 10000000 loops each)\n"
     ]
    }
   ],
   "source": [
    "%%timeit\n",
    "myList.append(0)"
   ]
  },
  {
   "cell_type": "code",
   "execution_count": 26,
   "metadata": {},
   "outputs": [],
   "source": [
    "#First Attempt: Pretty good, but lets see if I can do better --> nah it's pretty good\n",
    "def large_value_keys(d, N):\n",
    "    \"\"\"Returns a list containing various keys in d.\n",
    "    \n",
    "    d is a dictionary who values are ints. N is an int.\n",
    "    The list contains keys k whose corresponding value d[k] is bigger than N.\n",
    "    The keys are arranged in order of largest value to smallest value.\n",
    "    \"\"\"\n",
    "    returnList = []\n",
    "    dictList = list(d.items())\n",
    "    dictList.sort(key = lambda x: -x[1])\n",
    "    keys = [entry[0] for entry in dictList]\n",
    "    for key in keys:\n",
    "        if d[key] > N:\n",
    "            returnList.append(key)\n",
    "    return returnList\n",
    "        \n",
    "#Test Cases\n",
    "d = {'one': 1, 'two': 2, 'three': 3, 'four': 4, 'five': 5, 'six': 6, 'seven': 7, 'eight': 8}\n",
    "assert large_value_keys(d, 2) == ['eight', 'seven', 'six', 'five', 'four', 'three'], \"Test Case 2.1\"\n",
    "d = {'blah':-12, 'blahh':22, 'Lee Morgan':17, 'Clifford Brown':2, 'Miles Davis':1, 'Wayne Shorter': 10}\n",
    "assert large_value_keys(d, 5) == ['blahh', 'Lee Morgan', 'Wayne Shorter'], \"Test Case 2.2\""
   ]
  },
  {
   "cell_type": "code",
   "execution_count": 29,
   "metadata": {},
   "outputs": [
    {
     "name": "stdout",
     "output_type": "stream",
     "text": [
      "1.16 ms ± 49.5 µs per loop (mean ± std. dev. of 7 runs, 1000 loops each)\n"
     ]
    }
   ],
   "source": [
    "%%timeit\n",
    "d = {i:randint(1, 100) for i in range(1000)}\n",
    "N = randint(1, 100)\n",
    "large_value_keys(d, N)"
   ]
  },
  {
   "cell_type": "code",
   "execution_count": 31,
   "metadata": {},
   "outputs": [
    {
     "name": "stdout",
     "output_type": "stream",
     "text": [
      "897 µs ± 8.8 µs per loop (mean ± std. dev. of 7 runs, 1000 loops each)\n"
     ]
    }
   ],
   "source": [
    "%%timeit\n",
    "d = {i:randint(1, 100) for i in range(1000)}\n",
    "N = randint(1, 100)"
   ]
  },
  {
   "cell_type": "code",
   "execution_count": 32,
   "metadata": {},
   "outputs": [
    {
     "data": {
      "text/plain": [
       "263"
      ]
     },
     "execution_count": 32,
     "metadata": {},
     "output_type": "execute_result"
    }
   ],
   "source": [
    "1160 - 897"
   ]
  },
  {
   "cell_type": "code",
   "execution_count": null,
   "metadata": {},
   "outputs": [],
   "source": []
  }
 ],
 "metadata": {
  "kernelspec": {
   "display_name": "Python 3",
   "language": "python",
   "name": "python3"
  },
  "language_info": {
   "codemirror_mode": {
    "name": "ipython",
    "version": 3
   },
   "file_extension": ".py",
   "mimetype": "text/x-python",
   "name": "python",
   "nbconvert_exporter": "python",
   "pygments_lexer": "ipython3",
   "version": "3.7.6"
  }
 },
 "nbformat": 4,
 "nbformat_minor": 4
}
