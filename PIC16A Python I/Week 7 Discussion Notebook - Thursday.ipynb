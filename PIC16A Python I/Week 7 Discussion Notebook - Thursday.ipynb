{
 "cells": [
  {
   "cell_type": "markdown",
   "metadata": {},
   "source": [
    "# Agenda\n",
    "\n",
    "# - Machine Learning\n",
    "\n",
    "# - Iterators and Generators"
   ]
  },
  {
   "cell_type": "markdown",
   "metadata": {},
   "source": [
    "# ---"
   ]
  },
  {
   "cell_type": "code",
   "execution_count": null,
   "metadata": {},
   "outputs": [],
   "source": [
    "import numpy as np\n",
    "import matplotlib.pyplot as plt\n",
    "from sklearn.svm import SVC"
   ]
  },
  {
   "cell_type": "markdown",
   "metadata": {},
   "source": [
    "# Some Definitions "
   ]
  },
  {
   "cell_type": "markdown",
   "metadata": {},
   "source": [
    "## - Classification Problem\n",
    "### Will a student drop out of their major within the next year?\n",
    "\n",
    "## - Samples\n",
    "### (student, course, quarter) combinations\n",
    "\n",
    "## - Features\n",
    "### (current GPA, number courses currently enrolled, demographics, etc.)\n",
    "\n",
    "## - Labels\n",
    "### 1 if student will drop out of major within next year, else 0\n",
    "\n",
    "## - Training Set\n",
    "### 70% of data\n",
    "\n",
    "## - Testing Set\n",
    "### 30% of data"
   ]
  },
  {
   "cell_type": "markdown",
   "metadata": {},
   "source": [
    "# Generate Training Data"
   ]
  },
  {
   "cell_type": "code",
   "execution_count": null,
   "metadata": {},
   "outputs": [],
   "source": [
    "n = 100\n",
    "\n",
    "x1 = np.random.normal(0, 1, n)\n",
    "y1 = np.random.normal(0, 1, n)\n",
    "\n",
    "x2 = np.random.normal(5, 1, n)\n",
    "y2 = np.random.normal(5, 1, n)"
   ]
  },
  {
   "cell_type": "code",
   "execution_count": null,
   "metadata": {},
   "outputs": [],
   "source": [
    "plt.scatter(x1, y1, color='b', s=2)\n",
    "plt.scatter(x2, y2, color='r', s=2)"
   ]
  },
  {
   "cell_type": "code",
   "execution_count": null,
   "metadata": {},
   "outputs": [],
   "source": [
    "train_data = np.empty((2*n,2))\n",
    "train_data[:,0] = np.concatenate([x1,x2])\n",
    "train_data[:,1] = np.concatenate([y1,y2])"
   ]
  },
  {
   "cell_type": "code",
   "execution_count": null,
   "metadata": {
    "scrolled": false
   },
   "outputs": [],
   "source": [
    "train_data[:10]"
   ]
  },
  {
   "cell_type": "code",
   "execution_count": null,
   "metadata": {},
   "outputs": [],
   "source": [
    "train_labels = np.concatenate([np.zeros(n), np.ones(n)])"
   ]
  },
  {
   "cell_type": "code",
   "execution_count": null,
   "metadata": {},
   "outputs": [],
   "source": [
    "train_labels"
   ]
  },
  {
   "cell_type": "markdown",
   "metadata": {},
   "source": [
    "# Classify"
   ]
  },
  {
   "cell_type": "code",
   "execution_count": null,
   "metadata": {},
   "outputs": [],
   "source": [
    "clf = SVC(kernel = 'linear')\n",
    "clf.fit(train_data, train_labels)"
   ]
  },
  {
   "cell_type": "code",
   "execution_count": null,
   "metadata": {},
   "outputs": [],
   "source": [
    "train_preds = clf.predict(train_data)"
   ]
  },
  {
   "cell_type": "code",
   "execution_count": null,
   "metadata": {},
   "outputs": [],
   "source": [
    "print('Accuracy on Training Data:', np.mean(train_preds == train_labels)*100)"
   ]
  },
  {
   "cell_type": "markdown",
   "metadata": {},
   "source": [
    "# Generate Some Testing Data"
   ]
  },
  {
   "cell_type": "code",
   "execution_count": null,
   "metadata": {},
   "outputs": [],
   "source": [
    "n = 100\n",
    "\n",
    "x1 = np.random.normal(0, 1, n)\n",
    "y1 = np.random.normal(0, 1, n)\n",
    "\n",
    "x2 = np.random.normal(5, 1, n)\n",
    "y2 = np.random.normal(5, 1, n)\n",
    "\n",
    "test_data = np.empty((2*n,2))\n",
    "test_data[:,0] = np.concatenate([x1,x2])\n",
    "test_data[:,1] = np.concatenate([y1,y2])\n",
    "\n",
    "test_labels = np.concatenate([np.zeros(n), np.ones(n)])"
   ]
  },
  {
   "cell_type": "code",
   "execution_count": null,
   "metadata": {},
   "outputs": [],
   "source": [
    "test_preds = clf.predict(test_data)"
   ]
  },
  {
   "cell_type": "code",
   "execution_count": null,
   "metadata": {},
   "outputs": [],
   "source": [
    "print('Accuracy on Testing Data:', np.mean(test_preds== test_labels)*100)"
   ]
  },
  {
   "cell_type": "markdown",
   "metadata": {},
   "source": [
    "# Visualize"
   ]
  },
  {
   "cell_type": "code",
   "execution_count": null,
   "metadata": {},
   "outputs": [],
   "source": [
    "def draw_separating_line(clf, x):\n",
    "    y = -(clf.coef_[0,0] * x  +  clf.intercept_[0]) / clf.coef_[0,1]\n",
    "    plt.plot(x,y, color='k', linestyle='--')"
   ]
  },
  {
   "cell_type": "code",
   "execution_count": null,
   "metadata": {},
   "outputs": [],
   "source": [
    "plt.scatter(x1, y1, color='b', s=2)\n",
    "plt.scatter(x2, y2, color='r', s=2)\n",
    "draw_separating_line(clf, np.linspace(-2,6,100))"
   ]
  },
  {
   "cell_type": "markdown",
   "metadata": {},
   "source": [
    "# Nonlinear Case"
   ]
  },
  {
   "cell_type": "code",
   "execution_count": null,
   "metadata": {},
   "outputs": [],
   "source": [
    "n = 1000\n",
    "\n",
    "x1 = np.random.normal(0, 1, n)\n",
    "y1 = np.random.normal(0, 1, n)\n",
    "\n",
    "r = np.random.normal(10, .5, n)\n",
    "theta = np.random.normal(0, 10, n)\n",
    "x2 = r*np.cos(theta)\n",
    "y2 = r*np.sin(theta)"
   ]
  },
  {
   "cell_type": "code",
   "execution_count": null,
   "metadata": {},
   "outputs": [],
   "source": [
    "plt.figure(figsize=(8,8))\n",
    "plt.scatter(x1, y1, color='b', s=2)\n",
    "plt.scatter(x2, y2, color='r', s=2)"
   ]
  },
  {
   "cell_type": "code",
   "execution_count": null,
   "metadata": {},
   "outputs": [],
   "source": [
    "train_data = np.empty((2*n,2))\n",
    "train_data[:,0] = np.concatenate([x1,x2])\n",
    "train_data[:,1] = np.concatenate([y1,y2])"
   ]
  },
  {
   "cell_type": "code",
   "execution_count": null,
   "metadata": {},
   "outputs": [],
   "source": [
    "train_labels = np.concatenate([np.zeros(n), np.ones(n)])"
   ]
  },
  {
   "cell_type": "markdown",
   "metadata": {},
   "source": [
    "# Try to Classify"
   ]
  },
  {
   "cell_type": "code",
   "execution_count": null,
   "metadata": {},
   "outputs": [],
   "source": [
    "clf = SVC(kernel = 'linear')\n",
    "clf.fit(train_data, train_labels)"
   ]
  },
  {
   "cell_type": "code",
   "execution_count": null,
   "metadata": {},
   "outputs": [],
   "source": [
    "train_preds = clf.predict(train_data)"
   ]
  },
  {
   "cell_type": "code",
   "execution_count": null,
   "metadata": {},
   "outputs": [],
   "source": [
    "print('Accuracy on Training Data:', np.mean(train_preds == train_labels)*100)"
   ]
  },
  {
   "cell_type": "code",
   "execution_count": null,
   "metadata": {},
   "outputs": [],
   "source": [
    "plt.figure(figsize=(8,8))\n",
    "plt.scatter(x1, y1, color='b', s=2)\n",
    "plt.scatter(x2, y2, color='r', s=2)\n",
    "draw_separating_line(clf, np.linspace(x2.min(),x2.max(),100))\n",
    "plt.xlim(-12,12)\n",
    "plt.ylim(-12,12)"
   ]
  },
  {
   "cell_type": "markdown",
   "metadata": {},
   "source": [
    "# Transform "
   ]
  },
  {
   "cell_type": "code",
   "execution_count": null,
   "metadata": {},
   "outputs": [],
   "source": [
    "train_data[:10]"
   ]
  },
  {
   "cell_type": "code",
   "execution_count": null,
   "metadata": {},
   "outputs": [],
   "source": [
    "x_vals = train_data[:,0]\n",
    "y_vals = train_data[:,1]"
   ]
  },
  {
   "cell_type": "code",
   "execution_count": null,
   "metadata": {},
   "outputs": [],
   "source": [
    "transformed_train_data = np.empty_like(train_data)"
   ]
  },
  {
   "cell_type": "code",
   "execution_count": null,
   "metadata": {},
   "outputs": [],
   "source": [
    "r_vals = np.sqrt(x_vals**2 + y_vals**2)\n",
    "theta_vals = np.arctan(y_vals/x_vals)"
   ]
  },
  {
   "cell_type": "code",
   "execution_count": null,
   "metadata": {},
   "outputs": [],
   "source": [
    "transformed_train_data[:,0] = r_vals\n",
    "transformed_train_data[:,1] = theta_vals"
   ]
  },
  {
   "cell_type": "code",
   "execution_count": null,
   "metadata": {},
   "outputs": [],
   "source": [
    "transformed_train_data[:10]"
   ]
  },
  {
   "cell_type": "code",
   "execution_count": null,
   "metadata": {},
   "outputs": [],
   "source": [
    "plt.figure(figsize=(8,8))\n",
    "plt.scatter(r_vals[:n], theta_vals[:n], color='b', s=2)\n",
    "plt.scatter(r_vals[n:], theta_vals[n:], color='r', s=2)\n",
    "plt.xlabel('r', fontsize=20)\n",
    "plt.ylabel('theta', fontsize=20)"
   ]
  },
  {
   "cell_type": "markdown",
   "metadata": {},
   "source": [
    "# Classify"
   ]
  },
  {
   "cell_type": "code",
   "execution_count": null,
   "metadata": {},
   "outputs": [],
   "source": [
    "clf = SVC(kernel = 'linear')\n",
    "clf.fit(transformed_train_data, train_labels)"
   ]
  },
  {
   "cell_type": "code",
   "execution_count": null,
   "metadata": {},
   "outputs": [],
   "source": [
    "train_preds = clf.predict(transformed_train_data)"
   ]
  },
  {
   "cell_type": "code",
   "execution_count": null,
   "metadata": {},
   "outputs": [],
   "source": [
    "print('Accuracy on Training Data:', np.mean(train_preds == train_labels)*100)"
   ]
  },
  {
   "cell_type": "markdown",
   "metadata": {},
   "source": [
    "# Visualize"
   ]
  },
  {
   "cell_type": "code",
   "execution_count": null,
   "metadata": {
    "scrolled": false
   },
   "outputs": [],
   "source": [
    "plt.figure(figsize=(8,8))\n",
    "plt.scatter(r_vals[:n], theta_vals[:n], color='b', s=2)\n",
    "plt.scatter(r_vals[n:], theta_vals[n:], color='r', s=2)\n",
    "plt.xlabel('r', fontsize=20)\n",
    "plt.ylabel('theta', fontsize=20)\n",
    "draw_separating_line(clf, np.linspace(r_vals.min(),r_vals.max(),100))\n",
    "plt.xlim(-1, 12)\n",
    "plt.ylim(-2,2)"
   ]
  },
  {
   "cell_type": "markdown",
   "metadata": {},
   "source": [
    "# Apply this to card games"
   ]
  },
  {
   "cell_type": "code",
   "execution_count": null,
   "metadata": {},
   "outputs": [],
   "source": [
    "def generate_hands(n_hands, hand_size):\n",
    "    cards = range(52)\n",
    "    hands = np.array([np.random.choice(cards, hand_size, replace=False) for _ in range(n_hands)])\n",
    "    return hands"
   ]
  },
  {
   "cell_type": "code",
   "execution_count": null,
   "metadata": {},
   "outputs": [],
   "source": [
    "hands = generate_hands(5, 2)"
   ]
  },
  {
   "cell_type": "code",
   "execution_count": null,
   "metadata": {},
   "outputs": [],
   "source": [
    "hands"
   ]
  },
  {
   "cell_type": "code",
   "execution_count": null,
   "metadata": {},
   "outputs": [],
   "source": [
    "hands = generate_hands(1000, 2)"
   ]
  },
  {
   "cell_type": "markdown",
   "metadata": {},
   "source": [
    "## Goal: figure out if hand is pair or not"
   ]
  },
  {
   "cell_type": "code",
   "execution_count": null,
   "metadata": {},
   "outputs": [],
   "source": [
    "ranks = hands % 13\n",
    "pair_hands = hands[ranks[:,0] == ranks[:,1]]\n",
    "non_pair_hands = hands[ranks[:,0] != ranks[:,1]]"
   ]
  },
  {
   "cell_type": "code",
   "execution_count": null,
   "metadata": {},
   "outputs": [],
   "source": [
    "labels = (ranks[:,0] == ranks[:,1]).astype(np.int)"
   ]
  },
  {
   "cell_type": "code",
   "execution_count": null,
   "metadata": {},
   "outputs": [],
   "source": [
    "plt.figure(figsize=(8,8))\n",
    "plt.scatter(pair_hands[:,0], pair_hands[:,1], color='b', s=50, marker='x')\n",
    "plt.scatter(non_pair_hands[:,0], non_pair_hands[:,1], color='r', s=20)\n",
    "plt.xlabel('first card', fontsize=20)\n",
    "plt.ylabel('second card', fontsize=20)"
   ]
  },
  {
   "cell_type": "code",
   "execution_count": null,
   "metadata": {},
   "outputs": [],
   "source": [
    "clf = SVC(kernel = 'linear')\n",
    "clf.fit(hands, labels)"
   ]
  },
  {
   "cell_type": "code",
   "execution_count": null,
   "metadata": {},
   "outputs": [],
   "source": [
    "preds = clf.predict(hands)"
   ]
  },
  {
   "cell_type": "code",
   "execution_count": null,
   "metadata": {},
   "outputs": [],
   "source": [
    "print('Accuracy on Training Data:', np.mean(preds == labels)*100)"
   ]
  },
  {
   "cell_type": "code",
   "execution_count": null,
   "metadata": {},
   "outputs": [],
   "source": [
    "plt.figure(figsize=(8,8))\n",
    "plt.scatter(pair_hands[:,0], pair_hands[:,1], color='b', s=50, marker='x')\n",
    "plt.scatter(non_pair_hands[:,0], non_pair_hands[:,1], color='r', s=20)\n",
    "plt.xlabel('first card', fontsize=20)\n",
    "plt.ylabel('second card', fontsize=20)\n",
    "draw_separating_line(clf, np.linspace(0, 52 ,100))"
   ]
  },
  {
   "cell_type": "markdown",
   "metadata": {},
   "source": [
    "# What accuracy would we get by random guessing?"
   ]
  },
  {
   "cell_type": "code",
   "execution_count": null,
   "metadata": {},
   "outputs": [],
   "source": [
    "1 - np.mean(labels)"
   ]
  },
  {
   "cell_type": "markdown",
   "metadata": {},
   "source": [
    "# Let's think of a transformation"
   ]
  },
  {
   "cell_type": "code",
   "execution_count": null,
   "metadata": {},
   "outputs": [],
   "source": [
    "ranks = hands % 13"
   ]
  },
  {
   "cell_type": "code",
   "execution_count": null,
   "metadata": {},
   "outputs": [],
   "source": [
    "hands[:5]"
   ]
  },
  {
   "cell_type": "code",
   "execution_count": null,
   "metadata": {},
   "outputs": [],
   "source": [
    "ranks[:5]"
   ]
  },
  {
   "cell_type": "code",
   "execution_count": null,
   "metadata": {},
   "outputs": [],
   "source": [
    "pair_ranks = ranks[ranks[:,0] == ranks[:,1]]\n",
    "non_pair_ranks = ranks[ranks[:,0] != ranks[:,1]]"
   ]
  },
  {
   "cell_type": "code",
   "execution_count": null,
   "metadata": {},
   "outputs": [],
   "source": [
    "plt.figure(figsize=(8,8))\n",
    "plt.scatter(pair_ranks[:,0], pair_ranks[:,1], color='b', s=50, marker='x')\n",
    "plt.scatter(non_pair_ranks[:,0], non_pair_ranks[:,1], color='r', s=20)\n",
    "plt.xlabel('first card rank', fontsize=20)\n",
    "plt.ylabel('second card rank', fontsize=20)"
   ]
  },
  {
   "cell_type": "code",
   "execution_count": null,
   "metadata": {},
   "outputs": [],
   "source": [
    "pair_ranks[:3]"
   ]
  },
  {
   "cell_type": "code",
   "execution_count": null,
   "metadata": {},
   "outputs": [],
   "source": [
    "pair_hands[:3]"
   ]
  },
  {
   "cell_type": "code",
   "execution_count": null,
   "metadata": {},
   "outputs": [],
   "source": [
    "clf = SVC(kernel = 'linear')\n",
    "clf.fit(ranks, labels)"
   ]
  },
  {
   "cell_type": "code",
   "execution_count": null,
   "metadata": {},
   "outputs": [],
   "source": [
    "preds = clf.predict(ranks)"
   ]
  },
  {
   "cell_type": "code",
   "execution_count": null,
   "metadata": {},
   "outputs": [],
   "source": [
    "print('Accuracy on Training Data:', np.mean(preds == labels)*100)"
   ]
  },
  {
   "cell_type": "code",
   "execution_count": null,
   "metadata": {},
   "outputs": [],
   "source": [
    "plt.figure(figsize=(8,8))\n",
    "plt.scatter(pair_ranks[:,0], pair_ranks[:,1], color='b', s=50, marker='x')\n",
    "plt.scatter(non_pair_ranks[:,0], non_pair_ranks[:,1], color='r', s=20)\n",
    "plt.xlabel('first card rank', fontsize=20)\n",
    "plt.ylabel('second card rank', fontsize=20)\n",
    "draw_separating_line(clf, np.linspace(0, 52 ,100))"
   ]
  },
  {
   "cell_type": "markdown",
   "metadata": {},
   "source": [
    "# Hmm ... how can we get a good separation?"
   ]
  },
  {
   "cell_type": "code",
   "execution_count": null,
   "metadata": {},
   "outputs": [],
   "source": [
    "rank_diffs = ranks[:,1] - ranks[:,0]"
   ]
  },
  {
   "cell_type": "code",
   "execution_count": null,
   "metadata": {},
   "outputs": [],
   "source": [
    "diffs = np.empty_like(ranks)\n",
    "diffs[:,0] = ranks[:,0]\n",
    "diffs[:,1] = rank_diffs"
   ]
  },
  {
   "cell_type": "code",
   "execution_count": null,
   "metadata": {},
   "outputs": [],
   "source": [
    "diffs[:5]"
   ]
  },
  {
   "cell_type": "code",
   "execution_count": null,
   "metadata": {},
   "outputs": [],
   "source": [
    "pair_rank_diffs = diffs[diffs[:,1] == 0]\n",
    "non_pair_rank_diffs = diffs[diffs[:,1] != 0]"
   ]
  },
  {
   "cell_type": "code",
   "execution_count": null,
   "metadata": {},
   "outputs": [],
   "source": [
    "plt.figure(figsize=(8,8))\n",
    "plt.scatter(pair_rank_diffs[:,0], pair_rank_diffs[:,1], color='b', s=50, marker='x')\n",
    "plt.scatter(non_pair_rank_diffs[:,0], non_pair_rank_diffs[:,1], color='r', s=20)\n",
    "plt.xlabel('first card rank', fontsize=20)\n",
    "plt.ylabel('difference between ranks', fontsize=20)"
   ]
  },
  {
   "cell_type": "markdown",
   "metadata": {},
   "source": [
    "## Slight adjustment"
   ]
  },
  {
   "cell_type": "code",
   "execution_count": null,
   "metadata": {},
   "outputs": [],
   "source": [
    "rank_diffs = abs(ranks[:,1] - ranks[:,0])\n",
    "\n",
    "diffs = np.empty_like(ranks)\n",
    "diffs[:,0] = ranks[:,0]\n",
    "diffs[:,1] = rank_diffs"
   ]
  },
  {
   "cell_type": "code",
   "execution_count": null,
   "metadata": {},
   "outputs": [],
   "source": [
    "pair_rank_diffs = diffs[diffs[:,1] == 0]\n",
    "non_pair_rank_diffs = diffs[diffs[:,1] != 0]"
   ]
  },
  {
   "cell_type": "code",
   "execution_count": null,
   "metadata": {},
   "outputs": [],
   "source": [
    "plt.figure(figsize=(8,8))\n",
    "plt.scatter(pair_rank_diffs[:,0], pair_rank_diffs[:,1], color='b', s=50, marker='x')\n",
    "plt.scatter(non_pair_rank_diffs[:,0], non_pair_rank_diffs[:,1], color='r', s=20)\n",
    "plt.xlabel('first card rank', fontsize=20)\n",
    "plt.ylabel('absolute difference between ranks', fontsize=20)"
   ]
  },
  {
   "cell_type": "code",
   "execution_count": null,
   "metadata": {},
   "outputs": [],
   "source": [
    "clf = SVC(kernel = 'linear')\n",
    "clf.fit(diffs, labels)"
   ]
  },
  {
   "cell_type": "code",
   "execution_count": null,
   "metadata": {},
   "outputs": [],
   "source": [
    "preds = clf.predict(diffs)"
   ]
  },
  {
   "cell_type": "code",
   "execution_count": null,
   "metadata": {},
   "outputs": [],
   "source": [
    "print('Accuracy on Training Data:', np.mean(preds == labels)*100)"
   ]
  },
  {
   "cell_type": "markdown",
   "metadata": {},
   "source": [
    "# Generator Expressions"
   ]
  },
  {
   "cell_type": "code",
   "execution_count": null,
   "metadata": {},
   "outputs": [],
   "source": [
    "from sys import getsizeof"
   ]
  },
  {
   "cell_type": "code",
   "execution_count": null,
   "metadata": {},
   "outputs": [],
   "source": [
    "standard_list_of_nums = [i for i in range(100)]\n",
    "generator_list_of_nums = (i for i in range(100))"
   ]
  },
  {
   "cell_type": "code",
   "execution_count": null,
   "metadata": {},
   "outputs": [],
   "source": [
    "type(standard_list_of_nums)"
   ]
  },
  {
   "cell_type": "code",
   "execution_count": null,
   "metadata": {},
   "outputs": [],
   "source": [
    "type(generator_list_of_nums)"
   ]
  },
  {
   "cell_type": "markdown",
   "metadata": {},
   "source": [
    "## Similar Functionality"
   ]
  },
  {
   "cell_type": "code",
   "execution_count": null,
   "metadata": {},
   "outputs": [],
   "source": [
    "total = 0\n",
    "for item in standard_list_of_nums:\n",
    "    total += item\n",
    "total"
   ]
  },
  {
   "cell_type": "code",
   "execution_count": null,
   "metadata": {},
   "outputs": [],
   "source": [
    "total = 0\n",
    "for item in standard_list_of_nums:\n",
    "    total += item\n",
    "total"
   ]
  },
  {
   "cell_type": "code",
   "execution_count": null,
   "metadata": {},
   "outputs": [],
   "source": [
    "total = 0\n",
    "for item in generator_list_of_nums:\n",
    "    total += item\n",
    "total"
   ]
  },
  {
   "cell_type": "code",
   "execution_count": null,
   "metadata": {},
   "outputs": [],
   "source": [
    "total = 0\n",
    "for item in generator_list_of_nums:\n",
    "    total += item\n",
    "total"
   ]
  },
  {
   "cell_type": "markdown",
   "metadata": {},
   "source": [
    "## Different Indexing Behaviour"
   ]
  },
  {
   "cell_type": "code",
   "execution_count": null,
   "metadata": {},
   "outputs": [],
   "source": [
    "standard_list_of_nums[0]"
   ]
  },
  {
   "cell_type": "code",
   "execution_count": null,
   "metadata": {},
   "outputs": [],
   "source": [
    "generator_list_of_nums[0]"
   ]
  },
  {
   "cell_type": "markdown",
   "metadata": {},
   "source": [
    "## Size Comparison"
   ]
  },
  {
   "cell_type": "code",
   "execution_count": null,
   "metadata": {},
   "outputs": [],
   "source": [
    "getsizeof(standard_list_of_nums)"
   ]
  },
  {
   "cell_type": "code",
   "execution_count": null,
   "metadata": {},
   "outputs": [],
   "source": [
    "getsizeof(generator_list_of_nums)"
   ]
  },
  {
   "cell_type": "code",
   "execution_count": null,
   "metadata": {},
   "outputs": [],
   "source": [
    "standard_list_of_nums = [i for i in range(1000000)]\n",
    "generator_list_of_nums = (i for i in range(1000000))"
   ]
  },
  {
   "cell_type": "code",
   "execution_count": null,
   "metadata": {},
   "outputs": [],
   "source": [
    "getsizeof(standard_list_of_nums)"
   ]
  },
  {
   "cell_type": "code",
   "execution_count": null,
   "metadata": {},
   "outputs": [],
   "source": [
    "getsizeof(generator_list_of_nums)"
   ]
  },
  {
   "cell_type": "markdown",
   "metadata": {},
   "source": [
    "## Efficiency"
   ]
  },
  {
   "cell_type": "code",
   "execution_count": null,
   "metadata": {
    "scrolled": true
   },
   "outputs": [],
   "source": [
    "%%timeit\n",
    "standard_list_of_nums = [i for i in range(1000000)]"
   ]
  },
  {
   "cell_type": "code",
   "execution_count": null,
   "metadata": {},
   "outputs": [],
   "source": [
    "%%timeit\n",
    "generator_list_of_nums = (i for i in range(1000000))"
   ]
  },
  {
   "cell_type": "code",
   "execution_count": null,
   "metadata": {},
   "outputs": [],
   "source": [
    "%%timeit\n",
    "tot = 0\n",
    "for item in standard_list_of_nums:\n",
    "    tot += item"
   ]
  },
  {
   "cell_type": "code",
   "execution_count": null,
   "metadata": {},
   "outputs": [],
   "source": [
    "%%timeit\n",
    "generator_list_of_nums = (i for i in range(1000000))\n",
    "tot = 0\n",
    "for item in generator_list_of_nums:\n",
    "    tot += item"
   ]
  },
  {
   "cell_type": "markdown",
   "metadata": {},
   "source": [
    "# Exersize for you - find a data transform to separate these classes using SVM"
   ]
  },
  {
   "cell_type": "code",
   "execution_count": null,
   "metadata": {},
   "outputs": [],
   "source": [
    "n = 1000\n",
    "\n",
    "class_one_data = np.random.multivariate_normal([3,3], [[2,1.8],[1.8,2]], 1000)\n",
    "x1 = class_one_data[:,0]\n",
    "y1 = class_one_data[:,1]\n",
    "\n",
    "class_two_data = np.random.multivariate_normal([7,-1], [[.5,0],[0,.5]], 500)\n",
    "class_two_data = np.concatenate([class_two_data, np.random.multivariate_normal([-1,7], [[.5,0],[0,.5]], 500)], axis=0)\n",
    "x2 = class_two_data[:,0]\n",
    "y2 = class_two_data[:,1]"
   ]
  },
  {
   "cell_type": "code",
   "execution_count": null,
   "metadata": {},
   "outputs": [],
   "source": [
    "plt.figure(figsize=(8,8))\n",
    "plt.scatter(x1, y1, color='b', s=2)\n",
    "plt.scatter(x2, y2, color='r', s=2)"
   ]
  },
  {
   "cell_type": "code",
   "execution_count": null,
   "metadata": {},
   "outputs": [],
   "source": []
  }
 ],
 "metadata": {
  "kernelspec": {
   "display_name": "Python 3",
   "language": "python",
   "name": "python3"
  },
  "language_info": {
   "codemirror_mode": {
    "name": "ipython",
    "version": 3
   },
   "file_extension": ".py",
   "mimetype": "text/x-python",
   "name": "python",
   "nbconvert_exporter": "python",
   "pygments_lexer": "ipython3",
   "version": "3.7.4"
  }
 },
 "nbformat": 4,
 "nbformat_minor": 2
}
